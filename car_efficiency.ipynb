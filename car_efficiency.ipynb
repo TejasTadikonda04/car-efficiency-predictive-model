{
 "cells": [
  {
   "cell_type": "code",
   "execution_count": 10,
   "metadata": {},
   "outputs": [],
   "source": [
    "import pandas as pd\n",
    "\n",
    "from sklearn.model_selection import train_test_split\n",
    "from sklearn.metrics import mean_squared_error, r2_score\n",
    "df = pd.read_csv(\"https://raw.githubusercontent.com/jtao/AdvancedML/main/data/Auto.csv\")\n",
    "X = df[['cylinders', \"displacement\", \"weight\"]]\n",
    "y = df[[\"mpg\"]]\n",
    "\n",
    "# Splitting the data into train and test sets\n",
    "X_train, X_test, y_train, y_test = train_test_split(X, y, test_size=0.2, random_state=42)"
   ]
  },
  {
   "cell_type": "code",
   "execution_count": 11,
   "metadata": {},
   "outputs": [
    {
     "name": "stdout",
     "output_type": "stream",
     "text": [
      "Top 3 features correlated with mpg:\n",
      "weight          0.831739\n",
      "displacement    0.804443\n",
      "cylinders       0.776260\n",
      "Name: mpg, dtype: float64\n"
     ]
    }
   ],
   "source": [
    "# Drop non-numeric columns and handle missing values\n",
    "numeric_df = df.select_dtypes(include=['number']).dropna()\n",
    "\n",
    "# Calculate correlation coefficients\n",
    "correlation_matrix = numeric_df.corr()\n",
    "\n",
    "# Extract correlations with the target variable (mpg)\n",
    "mpg_correlation = correlation_matrix['mpg'].abs().sort_values(ascending=False)\n",
    "\n",
    "# Select top 3 features\n",
    "top_features = mpg_correlation[1:4]  # Exclude the target variable itself\n",
    "top_features_names = top_features.index.tolist()\n",
    "\n",
    "print(\"Top 3 features correlated with mpg:\")\n",
    "print(top_features)"
   ]
  },
  {
   "cell_type": "code",
   "execution_count": 12,
   "metadata": {},
   "outputs": [
    {
     "name": "stdout",
     "output_type": "stream",
     "text": [
      "Mean Squared Error: 22.863675694575868\n",
      "R^2 Score: 0.6274423284683546\n"
     ]
    }
   ],
   "source": [
    "from sklearn.linear_model import LinearRegression\n",
    "\n",
    "# Selecting the top 3 features\n",
    "X_train_top = X_train[['weight', 'displacement', 'cylinders']]\n",
    "X_test_top = X_test[['weight', 'displacement', 'cylinders']]\n",
    "\n",
    "# Initialize the linear regression model\n",
    "model = LinearRegression()\n",
    "\n",
    "# Train the model\n",
    "model.fit(X_train_top, y_train)\n",
    "\n",
    "# Predict on the test set\n",
    "y_pred = model.predict(X_test_top)\n",
    "\n",
    "# Evaluate the model\n",
    "mse = mean_squared_error(y_test, y_pred)\n",
    "r2 = r2_score(y_test, y_pred)\n",
    "\n",
    "print(\"Mean Squared Error:\", mse)\n",
    "print(\"R^2 Score:\", r2)\n",
    "\n"
   ]
  },
  {
   "cell_type": "code",
   "execution_count": 13,
   "metadata": {},
   "outputs": [
    {
     "name": "stdout",
     "output_type": "stream",
     "text": [
      "Ridge Regression Mean Squared Error: 23.419094078225463\n",
      "Ridge Regression R^2 Score: 0.6183919298140623\n"
     ]
    }
   ],
   "source": [
    "from sklearn.linear_model import Ridge\n",
    "from sklearn.preprocessing import StandardScaler\n",
    "from sklearn.pipeline import Pipeline\n",
    "\n",
    "# Selecting the top correlated feature\n",
    "X_train_ridge = X_train[['weight']]\n",
    "X_test_ridge = X_test[['weight']]\n",
    "\n",
    "# Define a pipeline for Ridge regression with standardization\n",
    "pipeline = Pipeline([\n",
    "    ('scaler', StandardScaler()),  # Standardize features\n",
    "    ('ridge', Ridge())             # Apply Ridge regression\n",
    "])\n",
    "\n",
    "# Train the Ridge regression model\n",
    "pipeline.fit(X_train_ridge, y_train)\n",
    "\n",
    "# Predict on the test set\n",
    "y_pred_ridge = pipeline.predict(X_test_ridge)\n",
    "\n",
    "# Evaluate the model\n",
    "mse_ridge = mean_squared_error(y_test, y_pred_ridge)\n",
    "r2_ridge = r2_score(y_test, y_pred_ridge)\n",
    "\n",
    "print(\"Ridge Regression Mean Squared Error:\", mse_ridge)\n",
    "print(\"Ridge Regression R^2 Score:\", r2_ridge)\n"
   ]
  },
  {
   "cell_type": "code",
   "execution_count": null,
   "metadata": {},
   "outputs": [],
   "source": []
  }
 ],
 "metadata": {
  "kernelspec": {
   "display_name": "Python 3",
   "language": "python",
   "name": "python3"
  },
  "language_info": {
   "codemirror_mode": {
    "name": "ipython",
    "version": 3
   },
   "file_extension": ".py",
   "mimetype": "text/x-python",
   "name": "python",
   "nbconvert_exporter": "python",
   "pygments_lexer": "ipython3",
   "version": "3.11.4"
  }
 },
 "nbformat": 4,
 "nbformat_minor": 2
}
