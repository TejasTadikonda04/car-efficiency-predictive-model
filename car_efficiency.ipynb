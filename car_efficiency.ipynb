{
 "cells": [
  {
   "cell_type": "code",
   "execution_count": 10,
   "metadata": {},
   "outputs": [],
   "source": [
    "import pandas as pd\n",
    "\n",
    "from sklearn.model_selection import train_test_split\n",
    "from sklearn.metrics import mean_squared_error, r2_score\n",
    "df = pd.read_csv(\"https://raw.githubusercontent.com/jtao/AdvancedML/main/data/Auto.csv\")\n",
    "X = df[['cylinders', \"displacement\", \"weight\"]]\n",
    "y = df[[\"mpg\"]]\n",
    "\n",
    "# Splitting the data into train and test sets\n",
    "X_train, X_test, y_train, y_test = train_test_split(X, y, test_size=0.2, random_state=42)"
   ]
  },
  {
   "cell_type": "code",
   "execution_count": 11,
   "metadata": {},
   "outputs": [
    {
     "name": "stdout",
     "output_type": "stream",
     "text": [
      "Top 3 features correlated with mpg:\n",
      "weight          0.831739\n",
      "displacement    0.804443\n",
      "cylinders       0.776260\n",
      "Name: mpg, dtype: float64\n"
     ]
    }
   ],
   "source": [
    "# Drop non-numeric columns and handle missing values\n",
    "numeric_df = df.select_dtypes(include=['number']).dropna()\n",
    "\n",
    "# Calculate correlation coefficients\n",
    "correlation_matrix = numeric_df.corr()\n",
    "\n",
    "# Extract correlations with the target variable (mpg)\n",
    "mpg_correlation = correlation_matrix['mpg'].abs().sort_values(ascending=False)\n",
    "\n",
    "# Select top 3 features\n",
    "top_features = mpg_correlation[1:4]  # Exclude the target variable itself\n",
    "top_features_names = top_features.index.tolist()\n",
    "\n",
    "print(\"Top 3 features correlated with mpg:\")\n",
    "print(top_features)"
   ]
  },
  {
   "cell_type": "code",
   "execution_count": null,
   "metadata": {},
   "outputs": [],
   "source": []
  },
  {
   "cell_type": "code",
   "execution_count": null,
   "metadata": {},
   "outputs": [],
   "source": []
  },
  {
   "cell_type": "code",
   "execution_count": null,
   "metadata": {},
   "outputs": [],
   "source": []
  }
 ],
 "metadata": {
  "kernelspec": {
   "display_name": "Python 3",
   "language": "python",
   "name": "python3"
  },
  "language_info": {
   "codemirror_mode": {
    "name": "ipython",
    "version": 3
   },
   "file_extension": ".py",
   "mimetype": "text/x-python",
   "name": "python",
   "nbconvert_exporter": "python",
   "pygments_lexer": "ipython3",
   "version": "3.11.4"
  }
 },
 "nbformat": 4,
 "nbformat_minor": 2
}
