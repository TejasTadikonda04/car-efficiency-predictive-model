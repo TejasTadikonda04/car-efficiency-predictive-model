{
 "cells": [
  {
   "cell_type": "code",
   "execution_count": 10,
   "metadata": {},
   "outputs": [],
   "source": [
    "import pandas as pd\n",
    "\n",
    "from sklearn.model_selection import train_test_split\n",
    "from sklearn.metrics import mean_squared_error, r2_score\n",
    "df = pd.read_csv(\"https://raw.githubusercontent.com/jtao/AdvancedML/main/data/Auto.csv\")\n",
    "X = df[['cylinders', \"displacement\", \"weight\"]]\n",
    "y = df[[\"mpg\"]]\n",
    "\n",
    "# Splitting the data into train and test sets\n",
    "X_train, X_test, y_train, y_test = train_test_split(X, y, test_size=0.2, random_state=42)"
   ]
  },
  {
   "cell_type": "code",
   "execution_count": 11,
   "metadata": {},
   "outputs": [
    {
     "name": "stdout",
     "output_type": "stream",
     "text": [
      "Top 3 features correlated with mpg:\n",
      "weight          0.831739\n",
      "displacement    0.804443\n",
      "cylinders       0.776260\n",
      "Name: mpg, dtype: float64\n"
     ]
    }
   ],
   "source": [
    "# Drop non-numeric columns and handle missing values\n",
    "numeric_df = df.select_dtypes(include=['number']).dropna()\n",
    "\n",
    "# Calculate correlation coefficients\n",
    "correlation_matrix = numeric_df.corr()\n",
    "\n",
    "# Extract correlations with the target variable (mpg)\n",
    "mpg_correlation = correlation_matrix['mpg'].abs().sort_values(ascending=False)\n",
    "\n",
    "# Select top 3 features\n",
    "top_features = mpg_correlation[1:4]  # Exclude the target variable itself\n",
    "top_features_names = top_features.index.tolist()\n",
    "\n",
    "print(\"Top 3 features correlated with mpg:\")\n",
    "print(top_features)"
   ]
  },
  {
   "cell_type": "code",
   "execution_count": 17,
   "metadata": {},
   "outputs": [
    {
     "name": "stdout",
     "output_type": "stream",
     "text": [
      "Mean Squared Error: 22.863675694575868\n",
      "R^2 Score: 0.6274423284683568\n"
     ]
    }
   ],
   "source": [
    "from sklearn.linear_model import LinearRegression\n",
    "\n",
    "# Selecting the top 3 features\n",
    "X_train_top = X_train[['weight', 'displacement', 'cylinders']]\n",
    "X_test_top = X_test[['weight', 'displacement', 'cylinders']]\n",
    "\n",
    "# Initialize the linear regression model\n",
    "linear_model = LinearRegression()\n",
    "\n",
    "# Train the model\n",
    "linear_model.fit(X_train, y_train)\n",
    "\n",
    "# Predict on the test set\n",
    "y_pred_lr = linear_model.predict(X_test)\n",
    "\n",
    "# Evaluate the model\n",
    "mse = mean_squared_error(y_test, y_pred)\n",
    "lr_score = r2_score(y_test, y_pred_lr)\n",
    "\n",
    "print(\"Mean Squared Error:\", mse)\n",
    "print(\"R^2 Score:\", lr_score)"
   ]
  },
  {
   "cell_type": "code",
   "execution_count": 13,
   "metadata": {},
   "outputs": [
    {
     "name": "stdout",
     "output_type": "stream",
     "text": [
      "Ridge Regression Mean Squared Error: 23.419094078225463\n",
      "Ridge Regression R^2 Score: 0.6183919298140623\n"
     ]
    }
   ],
   "source": [
    "from sklearn.linear_model import Ridge\n",
    "from sklearn.preprocessing import StandardScaler\n",
    "from sklearn.pipeline import Pipeline\n",
    "\n",
    "# Selecting the top correlated feature\n",
    "X_train_ridge = X_train[['weight']]\n",
    "X_test_ridge = X_test[['weight']]\n",
    "\n",
    "# Define a pipeline for Ridge regression with standardization\n",
    "pipeline = Pipeline([\n",
    "    ('scaler', StandardScaler()),  # Standardize features\n",
    "    ('ridge', Ridge())             # Apply Ridge regression\n",
    "])\n",
    "\n",
    "# Train the Ridge regression model\n",
    "pipeline.fit(X_train_ridge, y_train)\n",
    "\n",
    "# Predict on the test set\n",
    "y_pred_ridge = pipeline.predict(X_test_ridge)\n",
    "\n",
    "# Evaluate the model\n",
    "mse_ridge = mean_squared_error(y_test, y_pred_ridge)\n",
    "r2_ridge = r2_score(y_test, y_pred_ridge)\n",
    "\n",
    "print(\"Ridge Regression Mean Squared Error:\", mse_ridge)\n",
    "print(\"Ridge Regression R^2 Score:\", r2_ridge)\n"
   ]
  },
  {
   "cell_type": "code",
   "execution_count": 14,
   "metadata": {},
   "outputs": [
    {
     "name": "stderr",
     "output_type": "stream",
     "text": [
      "C:\\Users\\Tejas\\AppData\\Roaming\\Python\\Python311\\site-packages\\keras\\src\\layers\\core\\dense.py:88: UserWarning: Do not pass an `input_shape`/`input_dim` argument to a layer. When using Sequential models, prefer using an `Input(shape)` object as the first layer in the model instead.\n",
      "  super().__init__(activity_regularizer=activity_regularizer, **kwargs)\n"
     ]
    },
    {
     "name": "stdout",
     "output_type": "stream",
     "text": [
      "\u001b[1m3/3\u001b[0m \u001b[32m━━━━━━━━━━━━━━━━━━━━\u001b[0m\u001b[37m\u001b[0m \u001b[1m0s\u001b[0m 10ms/step\n",
      "Neural Network Mean Squared Error: 95.24958038330078\n",
      "Neural Network R^2 Score: -0.5153440861346161\n"
     ]
    }
   ],
   "source": [
    "import tensorflow as tf\n",
    "from tensorflow.keras.models import Sequential\n",
    "from tensorflow.keras.layers import Dense, Dropout\n",
    "from sklearn.preprocessing import StandardScaler\n",
    "from sklearn.pipeline import Pipeline\n",
    "\n",
    "# Define the neural network architecture\n",
    "model = Sequential([\n",
    "    Dense(64, activation='relu', input_shape=(X_train.shape[1],)),\n",
    "    Dropout(0.2),\n",
    "    Dense(32, activation='relu'),\n",
    "    Dense(1)  # Output layer\n",
    "])\n",
    "\n",
    "# Compile the model\n",
    "model.compile(optimizer='adam', loss='mean_squared_error', metrics=['mean_squared_error'])\n",
    "\n",
    "# Train the model\n",
    "history = model.fit(X_train, y_train, epochs=100, batch_size=32, validation_split=0.2, verbose=0)\n",
    "\n",
    "# Evaluate the model\n",
    "mse_nn, mse_nn_metric = model.evaluate(X_test, y_test, verbose=0)\n",
    "r2_nn = r2_score(y_test, model.predict(X_test))\n",
    "\n",
    "print(\"Neural Network Mean Squared Error:\", mse_nn)\n",
    "print(\"Neural Network R^2 Score:\", r2_nn)"
   ]
  }
 ],
 "metadata": {
  "kernelspec": {
   "display_name": "Python 3",
   "language": "python",
   "name": "python3"
  },
  "language_info": {
   "codemirror_mode": {
    "name": "ipython",
    "version": 3
   },
   "file_extension": ".py",
   "mimetype": "text/x-python",
   "name": "python",
   "nbconvert_exporter": "python",
   "pygments_lexer": "ipython3",
   "version": "3.11.4"
  }
 },
 "nbformat": 4,
 "nbformat_minor": 2
}
